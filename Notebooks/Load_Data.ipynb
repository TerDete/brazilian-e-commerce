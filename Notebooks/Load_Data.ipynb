{
 "cells": [
  {
   "cell_type": "code",
   "execution_count": 2,
   "id": "0dcfcfea-2857-450e-baca-3a05082730aa",
   "metadata": {},
   "outputs": [],
   "source": [
    "from pyspark.sql import SparkSession\n",
    "spark = SparkSession.builder \\\n",
    "    .appName(\"Load Data To PostgreSQL\") \\\n",
    "    .config(\"spark.jars\", \"/home/hadup/postgres_driver/postgresql-42.7.3.jar\") \\\n",
    "    .getOrCreate()"
   ]
  },
  {
   "cell_type": "code",
   "execution_count": 3,
   "id": "805f2990-bbaa-4b43-a185-8af727f757dd",
   "metadata": {},
   "outputs": [
    {
     "name": "stderr",
     "output_type": "stream",
     "text": [
      "                                                                                "
     ]
    },
    {
     "name": "stdout",
     "output_type": "stream",
     "text": [
      "+--------------------+------------+------------------------+--------------------+---------------------+-------------+-----+-------------+--------------------+\n",
      "|            order_id|order_status|order_purchase_timestamp|          product_id|product_category_name|order_item_id|price|freight_value|           seller_id|\n",
      "+--------------------+------------+------------------------+--------------------+---------------------+-------------+-----+-------------+--------------------+\n",
      "|000576fe39319847c...|   delivered|     2018-07-04 12:08:27|557d850972a7d6f79...|   ferramentas_jardim|            1|810.0|        70.75|5996cddab893a4652...|\n",
      "|0009792311464db53...|   delivered|     2018-08-14 20:43:09|8cab8abac59158715...|        esporte_lazer|            1| 99.9|        27.65|530ec6109d11eaaf8...|\n",
      "|000aed2e25dbad2f9...|   delivered|     2018-05-11 20:33:38|4fa33915031a8cde0...|           perfumaria|            1|144.0|         8.77|fe2032dab1a61af87...|\n",
      "|001021efaa8636c29...|   delivered|     2018-02-27 09:27:14|5d7c23067ed3fc8c6...| fashion_bolsas_e_...|            1| 49.0|         15.1|6560211a19b47992c...|\n",
      "|00125cb692d048878...|   delivered|     2017-03-23 12:21:17|1c0c0093a48f13ba7...|     moveis_decoracao|            1|109.9|        25.51|41b39e28db005d973...|\n",
      "+--------------------+------------+------------------------+--------------------+---------------------+-------------+-----+-------------+--------------------+\n",
      "only showing top 5 rows\n",
      "\n"
     ]
    }
   ],
   "source": [
    "path = \"hdfs://localhost:9000/user/hadup/ecommerce/clean/parquet\"\n",
    "df = spark.read.parquet(path)\n",
    "df.show(5)"
   ]
  },
  {
   "cell_type": "code",
   "execution_count": 4,
   "id": "5d599bcc-acef-4ad7-920a-603289682b85",
   "metadata": {},
   "outputs": [],
   "source": [
    "db_url = \"jdbc:postgresql://localhost:5432/ecommerce_dw\"\n",
    "db_properties = {\n",
    "    \"user\": \"postgres\",\n",
    "    \"password\": \"b\", \n",
    "    \"driver\": \"org.postgresql.Driver\"\n",
    "}"
   ]
  },
  {
   "cell_type": "code",
   "execution_count": 5,
   "id": "dbf16c3a-bd9d-4c28-94cc-dd3cb87b4611",
   "metadata": {},
   "outputs": [
    {
     "name": "stderr",
     "output_type": "stream",
     "text": [
      "                                                                                "
     ]
    }
   ],
   "source": [
    "df.write \\\n",
    "  .jdbc(url=db_url, table=\"orders\", mode=\"overwrite\", properties=db_properties)"
   ]
  },
  {
   "cell_type": "code",
   "execution_count": null,
   "id": "495cbdd0-61fc-4e3b-932b-f6ed2778b438",
   "metadata": {},
   "outputs": [],
   "source": []
  }
 ],
 "metadata": {
  "kernelspec": {
   "display_name": "Python 3 (ipykernel)",
   "language": "python",
   "name": "python3"
  },
  "language_info": {
   "codemirror_mode": {
    "name": "ipython",
    "version": 3
   },
   "file_extension": ".py",
   "mimetype": "text/x-python",
   "name": "python",
   "nbconvert_exporter": "python",
   "pygments_lexer": "ipython3",
   "version": "3.10.12"
  }
 },
 "nbformat": 4,
 "nbformat_minor": 5
}
