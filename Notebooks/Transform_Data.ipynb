{
 "cells": [
  {
   "cell_type": "code",
   "execution_count": null,
   "id": "f906f670-549b-4b86-8a85-84d612993308",
   "metadata": {},
   "outputs": [],
   "source": [
    "from pyspark.sql import SparkSession\n",
    "spark = SparkSession.builder \\\n",
    "    .appName(\"Clean Raw Data\") \\\n",
    "    .getOrCreate()"
   ]
  },
  {
   "cell_type": "code",
   "execution_count": 2,
   "id": "9b3f854b-a448-449a-b5e8-a4129f1fc372",
   "metadata": {},
   "outputs": [
    {
     "name": "stdout",
     "output_type": "stream",
     "text": [
      "root\n",
      " |-- order_id: string (nullable = true)\n",
      " |-- customer_id: string (nullable = true)\n",
      " |-- order_status: string (nullable = true)\n",
      " |-- order_purchase_timestamp: string (nullable = true)\n",
      " |-- order_approved_at: string (nullable = true)\n",
      " |-- order_delivered_carrier_date: string (nullable = true)\n",
      " |-- order_delivered_customer_date: string (nullable = true)\n",
      " |-- order_estimated_delivery_date: string (nullable = true)\n",
      " |-- order_item_id: string (nullable = true)\n",
      " |-- product_id: string (nullable = true)\n",
      " |-- seller_id: string (nullable = true)\n",
      " |-- shipping_limit_date: string (nullable = true)\n",
      " |-- price: string (nullable = true)\n",
      " |-- freight_value: string (nullable = true)\n",
      " |-- customer_unique_id: string (nullable = true)\n",
      " |-- customer_zip_code_prefix: string (nullable = true)\n",
      " |-- customer_city: string (nullable = true)\n",
      " |-- customer_state: string (nullable = true)\n",
      " |-- product_category_name: string (nullable = true)\n",
      " |-- product_name_lenght: string (nullable = true)\n",
      " |-- product_description_lenght: string (nullable = true)\n",
      " |-- product_photos_qty: string (nullable = true)\n",
      " |-- product_weight_g: string (nullable = true)\n",
      " |-- product_length_cm: string (nullable = true)\n",
      " |-- product_height_cm: string (nullable = true)\n",
      " |-- product_width_cm: string (nullable = true)\n",
      " |-- payment_sequential: string (nullable = true)\n",
      " |-- payment_type: string (nullable = true)\n",
      " |-- payment_installments: string (nullable = true)\n",
      " |-- payment_value: string (nullable = true)\n",
      " |-- review_id: string (nullable = true)\n",
      " |-- review_score: string (nullable = true)\n",
      " |-- review_comment_title: string (nullable = true)\n",
      " |-- review_comment_message: string (nullable = true)\n",
      " |-- review_creation_date: string (nullable = true)\n",
      " |-- review_answer_timestamp: string (nullable = true)\n",
      "\n"
     ]
    }
   ],
   "source": [
    "raw_df = spark.read.option(\"header\", True).csv(\"hdfs://localhost:9000/user/hadup/ecommerce/raw/raw_data.csv\")\n",
    "raw_df.printSchema()"
   ]
  },
  {
   "cell_type": "code",
   "execution_count": 3,
   "id": "05594ba6-22ae-4159-9255-6afa6771a6e2",
   "metadata": {},
   "outputs": [
    {
     "name": "stderr",
     "output_type": "stream",
     "text": [
      "25/07/17 09:33:42 WARN SparkStringUtils: Truncated the string representation of a plan since it was too large. This behavior can be adjusted by setting 'spark.sql.debug.maxToStringFields'.\n"
     ]
    },
    {
     "name": "stdout",
     "output_type": "stream",
     "text": [
      "+--------------------+--------------------+------------+------------------------+-------------------+----------------------------+-----------------------------+-----------------------------+-------------+--------------------+--------------------+-------------------+-----+-------------+--------------------+------------------------+-------------+--------------+---------------------+-------------------+--------------------------+------------------+----------------+-----------------+-----------------+----------------+------------------+------------+--------------------+-------------+--------------------+------------+--------------------+----------------------+--------------------+-----------------------+\n",
      "|            order_id|         customer_id|order_status|order_purchase_timestamp|  order_approved_at|order_delivered_carrier_date|order_delivered_customer_date|order_estimated_delivery_date|order_item_id|          product_id|           seller_id|shipping_limit_date|price|freight_value|  customer_unique_id|customer_zip_code_prefix|customer_city|customer_state|product_category_name|product_name_lenght|product_description_lenght|product_photos_qty|product_weight_g|product_length_cm|product_height_cm|product_width_cm|payment_sequential|payment_type|payment_installments|payment_value|           review_id|review_score|review_comment_title|review_comment_message|review_creation_date|review_answer_timestamp|\n",
      "+--------------------+--------------------+------------+------------------------+-------------------+----------------------------+-----------------------------+-----------------------------+-------------+--------------------+--------------------+-------------------+-----+-------------+--------------------+------------------------+-------------+--------------+---------------------+-------------------+--------------------------+------------------+----------------+-----------------+-----------------+----------------+------------------+------------+--------------------+-------------+--------------------+------------+--------------------+----------------------+--------------------+-----------------------+\n",
      "|e481f51cbdc54678b...|9ef432eb625129730...|   delivered|     2017-10-02 10:56:33|2017-10-02 11:07:15|         2017-10-04 19:55:00|          2017-10-10 21:25:13|          2017-10-18 00:00:00|          1.0|87285b34884572647...|3504c0cb71d7fa48d...|2017-10-06 11:07:15|29.99|         8.72|7c396fd4830fd0422...|                    3149|    sao paulo|            SP| utilidades_domest...|               40.0|                     268.0|               4.0|           500.0|             19.0|              8.0|            13.0|               1.0| credit_card|                 1.0|        18.12|a54f0611adc9ed256...|         4.0|                NULL|  Não testei o prod...| 2017-10-11 00:00:00|    2017-10-12 03:43:48|\n",
      "|e481f51cbdc54678b...|9ef432eb625129730...|   delivered|     2017-10-02 10:56:33|2017-10-02 11:07:15|         2017-10-04 19:55:00|          2017-10-10 21:25:13|          2017-10-18 00:00:00|          1.0|87285b34884572647...|3504c0cb71d7fa48d...|2017-10-06 11:07:15|29.99|         8.72|7c396fd4830fd0422...|                    3149|    sao paulo|            SP| utilidades_domest...|               40.0|                     268.0|               4.0|           500.0|             19.0|              8.0|            13.0|               3.0|     voucher|                 1.0|          2.0|a54f0611adc9ed256...|         4.0|                NULL|  Não testei o prod...| 2017-10-11 00:00:00|    2017-10-12 03:43:48|\n",
      "|e481f51cbdc54678b...|9ef432eb625129730...|   delivered|     2017-10-02 10:56:33|2017-10-02 11:07:15|         2017-10-04 19:55:00|          2017-10-10 21:25:13|          2017-10-18 00:00:00|          1.0|87285b34884572647...|3504c0cb71d7fa48d...|2017-10-06 11:07:15|29.99|         8.72|7c396fd4830fd0422...|                    3149|    sao paulo|            SP| utilidades_domest...|               40.0|                     268.0|               4.0|           500.0|             19.0|              8.0|            13.0|               2.0|     voucher|                 1.0|        18.59|a54f0611adc9ed256...|         4.0|                NULL|  Não testei o prod...| 2017-10-11 00:00:00|    2017-10-12 03:43:48|\n",
      "|53cdb2fc8bc7dce0b...|b0830fb4747a6c6d2...|   delivered|     2018-07-24 20:41:37|2018-07-26 03:24:27|         2018-07-26 14:31:00|          2018-08-07 15:27:45|          2018-08-13 00:00:00|          1.0|595fac2a385ac33a8...|289cdb325fb7e7f89...|2018-07-30 03:24:27|118.7|        22.76|af07308b275d755c9...|                   47813|    barreiras|            BA|           perfumaria|               29.0|                     178.0|               1.0|           400.0|             19.0|             13.0|            19.0|               1.0|      boleto|                 1.0|       141.46|8d5266042046a0665...|         4.0|    Muito boa a loja|  Muito bom o produto.| 2018-08-08 00:00:00|    2018-08-08 18:37:50|\n",
      "|47770eb9100c2d0c4...|41ce2a54c0b03bf34...|   delivered|     2018-08-08 08:38:49|2018-08-08 08:55:23|         2018-08-08 13:50:00|          2018-08-17 18:06:29|          2018-09-04 00:00:00|          1.0|aa4383b373c6aca5d...|4869f7a5dfa277a7d...|2018-08-13 08:55:23|159.9|        19.22|3a653a41f6f9fc3d2...|                   75265|   vianopolis|            GO|           automotivo|               46.0|                     232.0|               1.0|           420.0|             24.0|             19.0|            21.0|               1.0| credit_card|                 3.0|       179.12|e73b67b67587f7644...|         5.0|                NULL|                  NULL| 2018-08-18 00:00:00|    2018-08-22 19:07:58|\n",
      "+--------------------+--------------------+------------+------------------------+-------------------+----------------------------+-----------------------------+-----------------------------+-------------+--------------------+--------------------+-------------------+-----+-------------+--------------------+------------------------+-------------+--------------+---------------------+-------------------+--------------------------+------------------+----------------+-----------------+-----------------+----------------+------------------+------------+--------------------+-------------+--------------------+------------+--------------------+----------------------+--------------------+-----------------------+\n",
      "only showing top 5 rows\n",
      "\n"
     ]
    }
   ],
   "source": [
    "raw_df.show(5)"
   ]
  },
  {
   "cell_type": "code",
   "execution_count": 5,
   "id": "fac2e498-41d1-48b9-a0b1-d3afe0e20030",
   "metadata": {},
   "outputs": [],
   "source": [
    "from pyspark.sql.functions import col\n",
    "\n",
    "columns_needed = [\n",
    "    \"order_id\",\n",
    "    \"order_status\",\n",
    "    \"order_purchase_timestamp\",\n",
    "    \"product_id\",\n",
    "    \"product_category_name\",\n",
    "    \"order_item_id\",\n",
    "    \"price\",\n",
    "    \"freight_value\",\n",
    "    \"seller_id\"\n",
    "]\n",
    "\n",
    "df_sales = raw_df.select([col(c) for c in columns_needed])"
   ]
  },
  {
   "cell_type": "code",
   "execution_count": 6,
   "id": "b8b70fea-a511-4a0e-ab5b-46919498bac4",
   "metadata": {},
   "outputs": [
    {
     "name": "stdout",
     "output_type": "stream",
     "text": [
      "root\n",
      " |-- order_id: string (nullable = true)\n",
      " |-- order_status: string (nullable = true)\n",
      " |-- order_purchase_timestamp: string (nullable = true)\n",
      " |-- product_id: string (nullable = true)\n",
      " |-- product_category_name: string (nullable = true)\n",
      " |-- order_item_id: string (nullable = true)\n",
      " |-- price: string (nullable = true)\n",
      " |-- freight_value: string (nullable = true)\n",
      " |-- seller_id: string (nullable = true)\n",
      "\n",
      "+--------------------------------+------------+------------------------+--------------------------------+---------------------+-------------+-----+-------------+--------------------------------+\n",
      "|order_id                        |order_status|order_purchase_timestamp|product_id                      |product_category_name|order_item_id|price|freight_value|seller_id                       |\n",
      "+--------------------------------+------------+------------------------+--------------------------------+---------------------+-------------+-----+-------------+--------------------------------+\n",
      "|e481f51cbdc54678b7cc49136f2d6af7|delivered   |2017-10-02 10:56:33     |87285b34884572647811a353c7ac498a|utilidades_domesticas|1.0          |29.99|8.72         |3504c0cb71d7fa48d967e0e4c94d59d9|\n",
      "|e481f51cbdc54678b7cc49136f2d6af7|delivered   |2017-10-02 10:56:33     |87285b34884572647811a353c7ac498a|utilidades_domesticas|1.0          |29.99|8.72         |3504c0cb71d7fa48d967e0e4c94d59d9|\n",
      "|e481f51cbdc54678b7cc49136f2d6af7|delivered   |2017-10-02 10:56:33     |87285b34884572647811a353c7ac498a|utilidades_domesticas|1.0          |29.99|8.72         |3504c0cb71d7fa48d967e0e4c94d59d9|\n",
      "|53cdb2fc8bc7dce0b6741e2150273451|delivered   |2018-07-24 20:41:37     |595fac2a385ac33a80bd5114aec74eb8|perfumaria           |1.0          |118.7|22.76        |289cdb325fb7e7f891c38608bf9e0962|\n",
      "|47770eb9100c2d0c44946d9cf07ec65d|delivered   |2018-08-08 08:38:49     |aa4383b373c6aca5d8797843e5594415|automotivo           |1.0          |159.9|19.22        |4869f7a5dfa277a7dca6462dcf3b52b2|\n",
      "+--------------------------------+------------+------------------------+--------------------------------+---------------------+-------------+-----+-------------+--------------------------------+\n",
      "only showing top 5 rows\n",
      "\n"
     ]
    }
   ],
   "source": [
    "df_sales.printSchema()\n",
    "df_sales.show(5, truncate=False)"
   ]
  },
  {
   "cell_type": "code",
   "execution_count": 7,
   "id": "e78291a7-fe3c-4aaa-9bb2-dd56cfbb5229",
   "metadata": {},
   "outputs": [],
   "source": [
    "from pyspark.sql.types import FloatType, IntegerType, TimestampType\n",
    "\n",
    "df_sales = df_sales \\\n",
    "    .withColumn(\"order_purchase_timestamp\", col(\"order_purchase_timestamp\").cast(TimestampType())) \\\n",
    "    .withColumn(\"order_item_id\", col(\"order_item_id\").cast(IntegerType())) \\\n",
    "    .withColumn(\"price\", col(\"price\").cast(FloatType())) \\\n",
    "    .withColumn(\"freight_value\", col(\"freight_value\").cast(FloatType()))"
   ]
  },
  {
   "cell_type": "code",
   "execution_count": 8,
   "id": "20517a53-92bc-4d6d-b887-deabf4f3766a",
   "metadata": {},
   "outputs": [
    {
     "name": "stdout",
     "output_type": "stream",
     "text": [
      "root\n",
      " |-- order_id: string (nullable = true)\n",
      " |-- order_status: string (nullable = true)\n",
      " |-- order_purchase_timestamp: timestamp (nullable = true)\n",
      " |-- product_id: string (nullable = true)\n",
      " |-- product_category_name: string (nullable = true)\n",
      " |-- order_item_id: integer (nullable = true)\n",
      " |-- price: float (nullable = true)\n",
      " |-- freight_value: float (nullable = true)\n",
      " |-- seller_id: string (nullable = true)\n",
      "\n"
     ]
    }
   ],
   "source": [
    "df_sales.printSchema()"
   ]
  },
  {
   "cell_type": "code",
   "execution_count": 9,
   "id": "d58ad651-7ea3-43dc-917a-065495df8b60",
   "metadata": {},
   "outputs": [],
   "source": [
    "df_sales = df_sales.dropna(subset=[\"order_id\", \"product_id\", \"price\", \"order_purchase_timestamp\"])\n",
    "df_sales = df_sales.filter((col(\"price\") >= 0) & (col(\"freight_value\") >= 0))\n",
    "df_sales = df_sales.dropDuplicates([\"order_id\", \"product_id\", \"order_item_id\"])"
   ]
  },
  {
   "cell_type": "code",
   "execution_count": 11,
   "id": "da7adef1-6bd9-4fb4-b79a-4bf28bde001f",
   "metadata": {},
   "outputs": [
    {
     "name": "stderr",
     "output_type": "stream",
     "text": [
      "                                                                                "
     ]
    }
   ],
   "source": [
    "df_sales.write.mode(\"overwrite\").csv(\"hdfs://localhost:9000/user/hadup/ecommerce/clean/csv\", header=True)\n",
    "df_sales.write.mode(\"overwrite\").parquet(\"hdfs://localhost:9000/user/hadup/ecommerce/clean/parquet\")"
   ]
  },
  {
   "cell_type": "code",
   "execution_count": null,
   "id": "61e9e896-6254-4f76-bdff-120b55640e19",
   "metadata": {},
   "outputs": [],
   "source": [
    "df_sales.write.mode(\"overwrite\").parquet(\"file:///home/hadup/ecommerce_clean_local/parquet\")"
   ]
  },
  {
   "cell_type": "code",
   "execution_count": null,
   "id": "7b7e7e81-66ba-48f1-9b80-f4e696908989",
   "metadata": {},
   "outputs": [],
   "source": [
    "spark.stop()"
   ]
  }
 ],
 "metadata": {
  "kernelspec": {
   "display_name": "Python 3 (ipykernel)",
   "language": "python",
   "name": "python3"
  },
  "language_info": {
   "codemirror_mode": {
    "name": "ipython",
    "version": 3
   },
   "file_extension": ".py",
   "mimetype": "text/x-python",
   "name": "python",
   "nbconvert_exporter": "python",
   "pygments_lexer": "ipython3",
   "version": "3.10.12"
  }
 },
 "nbformat": 4,
 "nbformat_minor": 5
}
