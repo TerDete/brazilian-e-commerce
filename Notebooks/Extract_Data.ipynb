{
 "cells": [
  {
   "cell_type": "code",
   "execution_count": 1,
   "id": "9a554df7-6725-440d-90eb-a396acc348aa",
   "metadata": {},
   "outputs": [],
   "source": [
    "import pandas as pd\n",
    "import os\n",
    "\n",
    "data_path = \"../Data/\""
   ]
  },
  {
   "cell_type": "code",
   "execution_count": 2,
   "id": "817f9b28-1d09-450a-a5bb-e49037ee0a96",
   "metadata": {},
   "outputs": [],
   "source": [
    "orders = pd.read_csv(data_path + \"olist_orders_dataset.csv\")\n",
    "order_items = pd.read_csv(data_path + \"olist_order_items_dataset.csv\")\n",
    "customers = pd.read_csv(data_path + \"olist_customers_dataset.csv\")\n",
    "products = pd.read_csv(data_path + \"olist_products_dataset.csv\")\n",
    "payments = pd.read_csv(data_path + \"olist_order_payments_dataset.csv\")\n",
    "reviews = pd.read_csv(data_path + \"olist_order_reviews_dataset.csv\")"
   ]
  },
  {
   "cell_type": "code",
   "execution_count": 3,
   "id": "1fbf6781-97bb-456f-a599-143fbe2dc244",
   "metadata": {},
   "outputs": [],
   "source": [
    "df = orders.merge(order_items, on=\"order_id\", how=\"left\") \\\n",
    "           .merge(customers, on=\"customer_id\", how=\"left\") \\\n",
    "           .merge(products, on=\"product_id\", how=\"left\") \\\n",
    "           .merge(payments, on=\"order_id\", how=\"left\") \\\n",
    "           .merge(reviews, on=\"order_id\", how=\"left\")"
   ]
  },
  {
   "cell_type": "code",
   "execution_count": 4,
   "id": "a15b1b70-0274-463e-8da9-a453daa226ea",
   "metadata": {},
   "outputs": [
    {
     "name": "stdout",
     "output_type": "stream",
     "text": [
      "Saved raw_data.csv with 119,143 lines.\n"
     ]
    }
   ],
   "source": [
    "output_path = \"../Data/raw_data.csv\"\n",
    "df.to_csv(output_path, index=False)\n",
    "print(f\"Saved raw_data.csv with {len(df):,} lines.\")"
   ]
  },
  {
   "cell_type": "code",
   "execution_count": null,
   "id": "347b99cf-130a-4d59-8a83-a2bbf23b2717",
   "metadata": {},
   "outputs": [],
   "source": []
  }
 ],
 "metadata": {
  "kernelspec": {
   "display_name": "Python 3 (ipykernel)",
   "language": "python",
   "name": "python3"
  },
  "language_info": {
   "codemirror_mode": {
    "name": "ipython",
    "version": 3
   },
   "file_extension": ".py",
   "mimetype": "text/x-python",
   "name": "python",
   "nbconvert_exporter": "python",
   "pygments_lexer": "ipython3",
   "version": "3.10.12"
  }
 },
 "nbformat": 4,
 "nbformat_minor": 5
}
